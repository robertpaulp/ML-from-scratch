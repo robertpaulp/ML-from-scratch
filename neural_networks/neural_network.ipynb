{
 "cells": [
  {
   "cell_type": "markdown",
   "metadata": {},
   "source": [
    "#TODO"
   ]
  },
  {
   "cell_type": "markdown",
   "metadata": {},
   "source": [
    "## Backpropagation algorithm\n",
    "\n",
    "### Weight Updates:\n",
    "- Output layer weight update:\n",
    "  $$\n",
    "  w_{sj}^{o(k+1)} = w_{sj}^{o(k)} + \\eta \\delta_s^{(k)} z_j^{(k)}\n",
    "  $$\n",
    "\n",
    "- Hidden layer weight update:\n",
    "  $$\n",
    "  w_{ji}^{h(k+1)} = w_{ji}^{h(k)} + \\eta \\left( \\sum_{s=1}^{m_s} \\delta_s^{(k)} w_{sj}^{o(k)} \\right) f_j^{h'}(v_j^{(k)}) x_{di}\n",
    "  $$\n",
    "\n",
    "### Neuron Outputs:\n",
    "- Hidden layer net input:\n",
    "  $$\n",
    "  v_j^{(k)} = \\sum_{i=1}^n w_{ji}^{h(k)} x_{di}\n",
    "  $$\n",
    "- Hidden layer activation:\n",
    "  $$\n",
    "  z_j^{(k)} = f_j^h(v_j^{(k)})\n",
    "  $$\n",
    "- Output layer activation:\n",
    "  $$\n",
    "  y_s^{(k)} = f_s^o \\left( \\sum_{q=1}^l w_{sq}^{o(k)} z_q^{(k)} \\right)\n",
    "  $$\n",
    "\n",
    "### Error Terms:\n",
    "- Output layer error term:\n",
    "  $$\n",
    "  \\delta_s^{(k)} = (y_{ds} - y_s^{(k)}) f_s^{o'} \\left( \\sum_{q=1}^l w_{sq}^{o(k)} z_q^{(k)} \\right)\n",
    "  $$"
   ]
  },
  {
   "cell_type": "code",
   "execution_count": 1,
   "metadata": {},
   "outputs": [],
   "source": [
    "def backward(x, y, output_weights, hidden_weights, activations, learning_rate, derivated_func):\n",
    "    z_j = activations[\"hidden\"]\n",
    "    y_s = activations[\"output\"]\n",
    "\n",
    "    # Output layer\n",
    "    delta_s = (y - y_s) * derivated_func(y_s)\n",
    "    output_weights = output_weights + learning_rate * (delta_s.T @ z_j)\n",
    "\n",
    "    # Hidden layer\n",
    "    sum_output_error = delta_s @ output_weights.T\n",
    "    delta_j  = sum_output_error * derivated_func(z_j)\n",
    "\n",
    "    hidden_weights = hidden_weights + learning_rate * (delta_j.T @ x)\n",
    "\n",
    "    return output_weights, hidden_weights"
   ]
  }
 ],
 "metadata": {
  "kernelspec": {
   "display_name": "Python 3",
   "language": "python",
   "name": "python3"
  },
  "language_info": {
   "codemirror_mode": {
    "name": "ipython",
    "version": 3
   },
   "file_extension": ".py",
   "mimetype": "text/x-python",
   "name": "python",
   "nbconvert_exporter": "python",
   "pygments_lexer": "ipython3",
   "version": "3.11.9"
  }
 },
 "nbformat": 4,
 "nbformat_minor": 2
}
